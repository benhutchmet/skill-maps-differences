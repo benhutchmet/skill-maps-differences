{
 "cells": [
  {
   "cell_type": "code",
   "execution_count": null,
   "metadata": {},
   "outputs": [],
   "source": [
    "# Local imports\n",
    "import argparse\n",
    "import os\n",
    "import sys\n",
    "import time\n",
    "import glob\n",
    "import re\n",
    "\n",
    "# Third party imports\n",
    "import numpy as np\n",
    "import pandas as pd\n",
    "import matplotlib.pyplot as plt\n",
    "import xarray as xr\n",
    "import cartopy.crs as ccrs\n",
    "from datetime import datetime\n",
    "import scipy.stats as stats\n",
    "\n",
    "# Import cdo\n",
    "from cdo import *\n",
    "cdo = Cdo()\n",
    "\n",
    "# Local imports\n",
    "sys.path.append('/home/users/benhutch/skill-maps-differences')\n",
    "import dictionaries as dic\n",
    "import functions as fnc"
   ]
  },
  {
   "cell_type": "code",
   "execution_count": null,
   "metadata": {},
   "outputs": [],
   "source": [
    "# Set up the parameters for the run\n",
    "variable = 'psl'\n",
    "region = 'global'\n",
    "region_grid = dic.gridspec_global\n",
    "season = 'DJFM'\n",
    "forecast_range = '2-9'\n",
    "observations_path = dic.obs\n",
    "obs_var_name = 'psl'\n",
    "start_year = 1960\n",
    "end_year = 2014\n",
    "# Set up the models to use for the historical run (uninitialized)\n",
    "# exclude EC-Earth3 as time period not long enough\n",
    "historical_models = dic.psl_models\n",
    "# Set up the models to use for the dcpp run (initialized)\n",
    "dcpp_models = dic.models"
   ]
  },
  {
   "cell_type": "code",
   "execution_count": null,
   "metadata": {},
   "outputs": [],
   "source": [
    "# Now process the observations for this run\n",
    "# for year 2-9 DJFM global\n",
    "obs = fnc.process_observations(variable, region, region_grid,\n",
    "                                forecast_range, season, observations_path,\n",
    "                                    obs_var_name)"
   ]
  },
  {
   "cell_type": "code",
   "execution_count": null,
   "metadata": {},
   "outputs": [],
   "source": [
    "# Load the historical data\n",
    "historical_data = fnc.load_processed_historical_data(dic.base_dir_historical,\n",
    "                                                        historical_models, variable,\n",
    "                                                            region, forecast_range,\n",
    "                                                                season)"
   ]
  },
  {
   "cell_type": "code",
   "execution_count": null,
   "metadata": {},
   "outputs": [],
   "source": [
    "# Load the dcpp data\n",
    "dcpp_data = fnc.load_data(dic.dcpp_base_dir, dcpp_models, \n",
    "                            variable, region, forecast_range, \n",
    "                                season)"
   ]
  }
 ],
 "metadata": {
  "language_info": {
   "name": "python"
  },
  "orig_nbformat": 4
 },
 "nbformat": 4,
 "nbformat_minor": 2
}
