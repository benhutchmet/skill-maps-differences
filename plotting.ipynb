{
 "cells": [
  {
   "cell_type": "code",
   "execution_count": 1,
   "metadata": {},
   "outputs": [],
   "source": [
    "# Local imports\n",
    "import argparse\n",
    "import os\n",
    "import sys\n",
    "import time\n",
    "import glob\n",
    "import re\n",
    "\n",
    "# Third party imports\n",
    "import numpy as np\n",
    "import pandas as pd\n",
    "import matplotlib.pyplot as plt\n",
    "import xarray as xr\n",
    "import cartopy.crs as ccrs\n",
    "from datetime import datetime\n",
    "import scipy.stats as stats\n",
    "\n",
    "# Import cdo\n",
    "from cdo import *\n",
    "cdo = Cdo()\n",
    "\n",
    "# Local imports\n",
    "sys.path.append('/home/users/benhutch/skill-maps-differences')\n",
    "import dictionaries as dic\n",
    "import functions as fnc"
   ]
  },
  {
   "cell_type": "code",
   "execution_count": 2,
   "metadata": {},
   "outputs": [],
   "source": [
    "# Set up the parameters for the run\n",
    "variable = 'psl'\n",
    "region = 'global'\n",
    "region_grid = dic.gridspec_global\n",
    "season = 'DJFM'\n",
    "forecast_range = '2-9'\n",
    "observations_path = dic.obs\n",
    "obs_var_name = 'psl'\n",
    "start_year = 1960\n",
    "end_year = 2014\n",
    "# Set up the models to use for the historical run (uninitialized)\n",
    "# exclude EC-Earth3 as time period not long enough\n",
    "historical_models = dic.psl_models\n",
    "# Set up the models to use for the dcpp run (initialized)\n",
    "dcpp_models = dic.models"
   ]
  },
  {
   "cell_type": "code",
   "execution_count": 3,
   "metadata": {},
   "outputs": [
    {
     "ename": "AttributeError",
     "evalue": "module 'functions' has no attribute 'process_observations'",
     "output_type": "error",
     "traceback": [
      "\u001b[0;31m---------------------------------------------------------------------------\u001b[0m",
      "\u001b[0;31mAttributeError\u001b[0m                            Traceback (most recent call last)",
      "\u001b[1;32m/home/users/benhutch/skill-maps-differences/plotting.ipynb Cell 3\u001b[0m line \u001b[0;36m<cell line: 3>\u001b[0;34m()\u001b[0m\n\u001b[1;32m      <a href='vscode-notebook-cell://ssh-remote%2Bsci2/home/users/benhutch/skill-maps-differences/plotting.ipynb#W2sdnNjb2RlLXJlbW90ZQ%3D%3D?line=0'>1</a>\u001b[0m \u001b[39m# Now process the observations for this run\u001b[39;00m\n\u001b[1;32m      <a href='vscode-notebook-cell://ssh-remote%2Bsci2/home/users/benhutch/skill-maps-differences/plotting.ipynb#W2sdnNjb2RlLXJlbW90ZQ%3D%3D?line=1'>2</a>\u001b[0m \u001b[39m# for year 2-9 DJFM global\u001b[39;00m\n\u001b[0;32m----> <a href='vscode-notebook-cell://ssh-remote%2Bsci2/home/users/benhutch/skill-maps-differences/plotting.ipynb#W2sdnNjb2RlLXJlbW90ZQ%3D%3D?line=2'>3</a>\u001b[0m obs \u001b[39m=\u001b[39m fnc\u001b[39m.\u001b[39;49mprocess_observations(variable, region, region_grid,\n\u001b[1;32m      <a href='vscode-notebook-cell://ssh-remote%2Bsci2/home/users/benhutch/skill-maps-differences/plotting.ipynb#W2sdnNjb2RlLXJlbW90ZQ%3D%3D?line=3'>4</a>\u001b[0m                                 forecast_range, season, observations_path,\n\u001b[1;32m      <a href='vscode-notebook-cell://ssh-remote%2Bsci2/home/users/benhutch/skill-maps-differences/plotting.ipynb#W2sdnNjb2RlLXJlbW90ZQ%3D%3D?line=4'>5</a>\u001b[0m                                     obs_var_name)\n",
      "\u001b[0;31mAttributeError\u001b[0m: module 'functions' has no attribute 'process_observations'"
     ]
    }
   ],
   "source": [
    "# Now process the observations for this run\n",
    "# for year 2-9 DJFM global\n",
    "obs = fnc.process_observations(variable, region, region_grid,\n",
    "                                forecast_range, season, observations_path,\n",
    "                                    obs_var_name)"
   ]
  },
  {
   "cell_type": "code",
   "execution_count": null,
   "metadata": {},
   "outputs": [],
   "source": [
    "# Load the historical data\n",
    "historical_data = fnc.load_processed_historical_data(dic.base_dir_historical,\n",
    "                                                        historical_models, variable,\n",
    "                                                            region, forecast_range,\n",
    "                                                                season)"
   ]
  },
  {
   "cell_type": "code",
   "execution_count": null,
   "metadata": {},
   "outputs": [],
   "source": [
    "# Load the dcpp data\n",
    "dcpp_data = fnc.load_data(dic.dcpp_base_dir, dcpp_models, \n",
    "                            variable, region, forecast_range, \n",
    "                                season)"
   ]
  }
 ],
 "metadata": {
  "kernelspec": {
   "display_name": "Python 3",
   "language": "python",
   "name": "python3"
  },
  "language_info": {
   "codemirror_mode": {
    "name": "ipython",
    "version": 3
   },
   "file_extension": ".py",
   "mimetype": "text/x-python",
   "name": "python",
   "nbconvert_exporter": "python",
   "pygments_lexer": "ipython3",
   "version": "3.10.5"
  },
  "orig_nbformat": 4
 },
 "nbformat": 4,
 "nbformat_minor": 2
}
